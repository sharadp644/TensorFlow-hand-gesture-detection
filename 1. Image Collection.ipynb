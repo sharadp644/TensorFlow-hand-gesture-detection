{
 "cells": [
  {
   "cell_type": "markdown",
   "metadata": {},
   "source": [
    "# 1. Import Dependencies"
   ]
  },
  {
   "cell_type": "code",
   "execution_count": 1,
   "metadata": {
    "scrolled": true
   },
   "outputs": [
    {
     "name": "stdout",
     "output_type": "stream",
     "text": [
      "Requirement already satisfied: opencv-python in e:\\tensorflow object detection\\tfod\\lib\\site-packages (4.5.3.56)"
     ]
    },
    {
     "name": "stderr",
     "output_type": "stream",
     "text": [
      "WARNING: You are using pip version 21.1.3; however, version 21.2.4 is available.\n",
      "You should consider upgrading via the 'e:\\tensorflow object detection\\tfod\\scripts\\python.exe -m pip install --upgrade pip' command.\n"
     ]
    },
    {
     "name": "stdout",
     "output_type": "stream",
     "text": [
      "\n",
      "Requirement already satisfied: numpy>=1.17.3 in e:\\tensorflow object detection\\tfod\\lib\\site-packages (from opencv-python) (1.19.5)\n"
     ]
    }
   ],
   "source": [
    "!pip install opencv-python"
   ]
  },
  {
   "cell_type": "code",
   "execution_count": 10,
   "metadata": {},
   "outputs": [],
   "source": [
    "# Import opencv\n",
    "import cv2 \n",
    "\n",
    "# Import uuid\n",
    "import uuid\n",
    "\n",
    "# Import Operating System\n",
    "import os\n",
    "\n",
    "# Import time\n",
    "import time"
   ]
  },
  {
   "cell_type": "markdown",
   "metadata": {},
   "source": [
    "# 2. Define Images to Collect"
   ]
  },
  {
   "cell_type": "code",
   "execution_count": 3,
   "metadata": {},
   "outputs": [],
   "source": [
    "labels = ['thumbsup', 'thumbsdown', 'thankyou', 'livelong']\n",
    "#labels = ['thumbsup']\n",
    "number_imgs = 5"
   ]
  },
  {
   "cell_type": "code",
   "execution_count": 4,
   "metadata": {},
   "outputs": [
    {
     "data": {
      "text/plain": [
       "int"
      ]
     },
     "execution_count": 4,
     "metadata": {},
     "output_type": "execute_result"
    }
   ],
   "source": [
    "type(number_imgs)\n"
   ]
  },
  {
   "cell_type": "markdown",
   "metadata": {},
   "source": [
    "# 3. Setup Folders "
   ]
  },
  {
   "cell_type": "code",
   "execution_count": 6,
   "metadata": {},
   "outputs": [],
   "source": [
    "IMAGES_PATH = os.path.join('Tensorflow', 'workspace', 'images', 'collectedimages')"
   ]
  },
  {
   "cell_type": "code",
   "execution_count": 7,
   "metadata": {},
   "outputs": [
    {
     "name": "stdout",
     "output_type": "stream",
     "text": [
      "Tensorflow\\workspace\\images\\collectedimages\n"
     ]
    }
   ],
   "source": [
    "print(IMAGES_PATH)"
   ]
  },
  {
   "cell_type": "code",
   "execution_count": 8,
   "metadata": {},
   "outputs": [
    {
     "data": {
      "text/plain": [
       "'nt'"
      ]
     },
     "execution_count": 8,
     "metadata": {},
     "output_type": "execute_result"
    }
   ],
   "source": [
    "os.name"
   ]
  },
  {
   "cell_type": "code",
   "execution_count": 9,
   "metadata": {},
   "outputs": [],
   "source": [
    "if not os.path.exists(IMAGES_PATH):\n",
    "    if os.name == 'posix':  #posix for linux operating system\n",
    "        !mkdir -p {IMAGES_PATH}\n",
    "    if os.name == 'nt':     #nt for windows operating system\n",
    "         !mkdir {IMAGES_PATH}\n",
    "for label in labels:\n",
    "    path = os.path.join(IMAGES_PATH, label)\n",
    "    if not os.path.exists(path):\n",
    "        !mkdir {path}"
   ]
  },
  {
   "cell_type": "markdown",
   "metadata": {},
   "source": [
    "# 4. Capture Images"
   ]
  },
  {
   "cell_type": "code",
   "execution_count": 20,
   "metadata": {},
   "outputs": [
    {
     "name": "stdout",
     "output_type": "stream",
     "text": [
      "Collecting images for thumbsup\n",
      "Collecting image 0\n",
      "Collecting image 1\n",
      "Collecting image 2\n",
      "Collecting image 3\n",
      "Collecting image 4\n"
     ]
    }
   ],
   "source": [
    "for label in labels:\n",
    "    cap = cv2.VideoCapture(0) #CONNCET TO OUR WEBCAME OR CAPTURE DEVICE\n",
    "    print('Collecting images for {}'.format(label))\n",
    "    time.sleep(5)\n",
    "    for imgnum in range(number_imgs):\n",
    "        print('Collecting image {}'.format(imgnum))\n",
    "        ret, frame = cap.read()\n",
    "        imgname = os.path.join(IMAGES_PATH,label,label+'.'+'{}.jpg'.format(str(uuid.uuid1())))\n",
    "        cv2.imwrite(imgname, frame)\n",
    "        cv2.imshow('frame', frame)\n",
    "        time.sleep(2)\n",
    "\n",
    "        if cv2.waitKey(1) & 0xFF == ord('q'):\n",
    "            break\n",
    "cap.release()\n",
    "cv2.destroyAllWindows()"
   ]
  },
  {
   "cell_type": "markdown",
   "metadata": {},
   "source": [
    "# 5. Image Labelling"
   ]
  },
  {
   "cell_type": "code",
   "execution_count": 21,
   "metadata": {},
   "outputs": [
    {
     "name": "stdout",
     "output_type": "stream",
     "text": [
      "Collecting pyqt5\n",
      "  Downloading PyQt5-5.15.4-cp36.cp37.cp38.cp39-none-win_amd64.whl (6.8 MB)\n",
      "Collecting lxml\n",
      "  Downloading lxml-4.6.3-cp38-cp38-win_amd64.whl (3.5 MB)\n",
      "Collecting PyQt5-sip<13,>=12.8\n",
      "  Downloading PyQt5_sip-12.9.0-cp38-cp38-win_amd64.whl (63 kB)\n",
      "Collecting PyQt5-Qt5>=5.15\n",
      "  Downloading PyQt5_Qt5-5.15.2-py3-none-win_amd64.whl (50.1 MB)\n",
      "Installing collected packages: PyQt5-sip, PyQt5-Qt5, pyqt5, lxml\n",
      "Successfully installed PyQt5-Qt5-5.15.2 PyQt5-sip-12.9.0 lxml-4.6.3 pyqt5-5.15.4\n"
     ]
    }
   ],
   "source": [
    "!pip install --upgrade pyqt5 lxml"
   ]
  },
  {
   "cell_type": "code",
   "execution_count": 23,
   "metadata": {},
   "outputs": [],
   "source": [
    "#!pip list"
   ]
  },
  {
   "cell_type": "code",
   "execution_count": 24,
   "metadata": {},
   "outputs": [],
   "source": [
    "LABELIMG_PATH = os.path.join('Tensorflow', 'labelimg')"
   ]
  },
  {
   "cell_type": "code",
   "execution_count": 25,
   "metadata": {},
   "outputs": [
    {
     "name": "stderr",
     "output_type": "stream",
     "text": [
      "Cloning into 'Tensorflow\\labelimg'...\n"
     ]
    }
   ],
   "source": [
    "if not os.path.exists(LABELIMG_PATH):\n",
    "    !mkdir {LABELIMG_PATH}\n",
    "    !git clone https://github.com/tzutalin/labelImg {LABELIMG_PATH}"
   ]
  },
  {
   "cell_type": "code",
   "execution_count": 27,
   "metadata": {},
   "outputs": [],
   "source": [
    "if os.name == 'posix':\n",
    "    !cd {LABELIMG_PATH} && !make qt5py3\n",
    "if os.name =='nt':\n",
    "    !cd {LABELIMG_PATH} && pyrcc5 -o libs/resources.py resources.qrc"
   ]
  },
  {
   "cell_type": "code",
   "execution_count": 28,
   "metadata": {},
   "outputs": [
    {
     "name": "stdout",
     "output_type": "stream",
     "text": [
      "Image:E:\\Tensorflow object detection\\TFODCourse\\Tensorflow\\workspace\\images\\collectedimages\\livelong\\livelong.4b0f0930-e7c8-11eb-b433-d0c637404e4d.jpg -> Annotation:E:/Tensorflow object detection/TFODCourse/Tensorflow/workspace/images/collectedimages/livelong/livelong.4b0f0930-e7c8-11eb-b433-d0c637404e4d.xml\n",
      "Image:E:\\Tensorflow object detection\\TFODCourse\\Tensorflow\\workspace\\images\\collectedimages\\livelong\\livelong.4c43443a-e7c8-11eb-84f8-d0c637404e4d.jpg -> Annotation:E:/Tensorflow object detection/TFODCourse/Tensorflow/workspace/images/collectedimages/livelong/livelong.4c43443a-e7c8-11eb-84f8-d0c637404e4d.xml\n",
      "Image:E:\\Tensorflow object detection\\TFODCourse\\Tensorflow\\workspace\\images\\collectedimages\\livelong\\livelong.4d79ecfc-e7c8-11eb-8f99-d0c637404e4d.jpg -> Annotation:E:/Tensorflow object detection/TFODCourse/Tensorflow/workspace/images/collectedimages/livelong/livelong.4d79ecfc-e7c8-11eb-8f99-d0c637404e4d.xml\n",
      "Cancel creation.\n",
      "Image:E:\\Tensorflow object detection\\TFODCourse\\Tensorflow\\workspace\\images\\collectedimages\\livelong\\livelong.48a61e4b-e7c8-11eb-a64b-d0c637404e4d.jpg -> Annotation:E:/Tensorflow object detection/TFODCourse/Tensorflow/workspace/images/collectedimages/livelong/livelong.48a61e4b-e7c8-11eb-a64b-d0c637404e4d.xml\n",
      "Image:E:\\Tensorflow object detection\\TFODCourse\\Tensorflow\\workspace\\images\\collectedimages\\livelong\\livelong.49da3e38-e7c8-11eb-b4ab-d0c637404e4d.jpg -> Annotation:E:/Tensorflow object detection/TFODCourse/Tensorflow/workspace/images/collectedimages/livelong/livelong.49da3e38-e7c8-11eb-b4ab-d0c637404e4d.xml\n",
      "Image:E:\\Tensorflow object detection\\TFODCourse\\Tensorflow\\workspace\\images\\collectedimages\\thankyou\\thankyou.3d30e7e6-e7c8-11eb-af04-d0c637404e4d.jpg -> Annotation:E:/Tensorflow object detection/TFODCourse/Tensorflow/workspace/images/collectedimages/thankyou/thankyou.3d30e7e6-e7c8-11eb-af04-d0c637404e4d.xml\n",
      "Image:E:\\Tensorflow object detection\\TFODCourse\\Tensorflow\\workspace\\images\\collectedimages\\thankyou\\thankyou.3e654852-e7c8-11eb-9ade-d0c637404e4d.jpg -> Annotation:E:/Tensorflow object detection/TFODCourse/Tensorflow/workspace/images/collectedimages/thankyou/thankyou.3e654852-e7c8-11eb-9ade-d0c637404e4d.xml\n"
     ]
    },
    {
     "name": "stderr",
     "output_type": "stream",
     "text": [
      "labelImg.py:965: DeprecationWarning: an integer is required (got type float).  Implicit conversion to integers using __int__ is deprecated, and may be removed in a future version of Python.\n",
      "  bar.setValue(bar.value() + bar.singleStep() * units)\n"
     ]
    },
    {
     "name": "stdout",
     "output_type": "stream",
     "text": [
      "Image:E:\\Tensorflow object detection\\TFODCourse\\Tensorflow\\workspace\\images\\collectedimages\\thankyou\\thankyou.3f9a860e-e7c8-11eb-be05-d0c637404e4d.jpg -> Annotation:E:/Tensorflow object detection/TFODCourse/Tensorflow/workspace/images/collectedimages/thankyou/thankyou.3f9a860e-e7c8-11eb-be05-d0c637404e4d.xml\n",
      "Cancel creation.\n",
      "Image:E:\\Tensorflow object detection\\TFODCourse\\Tensorflow\\workspace\\images\\collectedimages\\thankyou\\thankyou.40ce318a-e7c8-11eb-b511-d0c637404e4d.jpg -> Annotation:E:/Tensorflow object detection/TFODCourse/Tensorflow/workspace/images/collectedimages/thankyou/thankyou.40ce318a-e7c8-11eb-b511-d0c637404e4d.xml\n",
      "Image:E:\\Tensorflow object detection\\TFODCourse\\Tensorflow\\workspace\\images\\collectedimages\\thankyou\\thankyou.42027eff-e7c8-11eb-b2df-d0c637404e4d.jpg -> Annotation:E:/Tensorflow object detection/TFODCourse/Tensorflow/workspace/images/collectedimages/thankyou/thankyou.42027eff-e7c8-11eb-b2df-d0c637404e4d.xml\n",
      "Cancel creation.\n",
      "Image:E:\\Tensorflow object detection\\TFODCourse\\Tensorflow\\workspace\\images\\collectedimages\\thumbsdown\\thumbsdown.31b309d1-e7c8-11eb-b667-d0c637404e4d.jpg -> Annotation:E:/Tensorflow object detection/TFODCourse/Tensorflow/workspace/images/collectedimages/thumbsdown/thumbsdown.31b309d1-e7c8-11eb-b667-d0c637404e4d.xml\n",
      "Image:E:\\Tensorflow object detection\\TFODCourse\\Tensorflow\\workspace\\images\\collectedimages\\thumbsdown\\thumbsdown.32e86c94-e7c8-11eb-9bc8-d0c637404e4d.jpg -> Annotation:E:/Tensorflow object detection/TFODCourse/Tensorflow/workspace/images/collectedimages/thumbsdown/thumbsdown.32e86c94-e7c8-11eb-9bc8-d0c637404e4d.xml\n",
      "Image:E:\\Tensorflow object detection\\TFODCourse\\Tensorflow\\workspace\\images\\collectedimages\\thumbsdown\\thumbsdown.341d2f6c-e7c8-11eb-b9af-d0c637404e4d.jpg -> Annotation:E:/Tensorflow object detection/TFODCourse/Tensorflow/workspace/images/collectedimages/thumbsdown/thumbsdown.341d2f6c-e7c8-11eb-b9af-d0c637404e4d.xml\n",
      "Image:E:\\Tensorflow object detection\\TFODCourse\\Tensorflow\\workspace\\images\\collectedimages\\thumbsdown\\thumbsdown.3550440c-e7c8-11eb-938d-d0c637404e4d.jpg -> Annotation:E:/Tensorflow object detection/TFODCourse/Tensorflow/workspace/images/collectedimages/thumbsdown/thumbsdown.3550440c-e7c8-11eb-938d-d0c637404e4d.xml\n",
      "Image:E:\\Tensorflow object detection\\TFODCourse\\Tensorflow\\workspace\\images\\collectedimages\\thumbsdown\\thumbsdown.31b309d1-e7c8-11eb-b667-d0c637404e4d.jpg -> Annotation:E:/Tensorflow object detection/TFODCourse/Tensorflow/workspace/images/collectedimages/thumbsdown/thumbsdown.31b309d1-e7c8-11eb-b667-d0c637404e4d.xml\n",
      "Image:E:\\Tensorflow object detection\\TFODCourse\\Tensorflow\\workspace\\images\\collectedimages\\thumbsdown\\thumbsdown.32e86c94-e7c8-11eb-9bc8-d0c637404e4d.jpg -> Annotation:E:/Tensorflow object detection/TFODCourse/Tensorflow/workspace/images/collectedimages/thumbsdown/thumbsdown.32e86c94-e7c8-11eb-9bc8-d0c637404e4d.xml\n",
      "Image:E:\\Tensorflow object detection\\TFODCourse\\Tensorflow\\workspace\\images\\collectedimages\\thumbsdown\\thumbsdown.341d2f6c-e7c8-11eb-b9af-d0c637404e4d.jpg -> Annotation:E:/Tensorflow object detection/TFODCourse/Tensorflow/workspace/images/collectedimages/thumbsdown/thumbsdown.341d2f6c-e7c8-11eb-b9af-d0c637404e4d.xml\n",
      "Image:E:\\Tensorflow object detection\\TFODCourse\\Tensorflow\\workspace\\images\\collectedimages\\thumbsdown\\thumbsdown.368689a0-e7c8-11eb-b1de-d0c637404e4d.jpg -> Annotation:E:/Tensorflow object detection/TFODCourse/Tensorflow/workspace/images/collectedimages/thumbsdown/thumbsdown.368689a0-e7c8-11eb-b1de-d0c637404e4d.xml\n",
      "Image:E:\\Tensorflow object detection\\TFODCourse\\Tensorflow\\workspace\\images\\collectedimages\\thumbsdown\\thumbsdown.3550440c-e7c8-11eb-938d-d0c637404e4d.jpg -> Annotation:E:/Tensorflow object detection/TFODCourse/Tensorflow/workspace/images/collectedimages/thumbsdown/thumbsdown.3550440c-e7c8-11eb-938d-d0c637404e4d.xml\n",
      "Image:E:\\Tensorflow object detection\\TFODCourse\\Tensorflow\\workspace\\images\\collectedimages\\thumbsup\\thumbsup.2b030c65-e7c8-11eb-970f-d0c637404e4d.jpg -> Annotation:E:/Tensorflow object detection/TFODCourse/Tensorflow/workspace/images/collectedimages/thumbsup/thumbsup.2b030c65-e7c8-11eb-970f-d0c637404e4d.xml\n",
      "Image:E:\\Tensorflow object detection\\TFODCourse\\Tensorflow\\workspace\\images\\collectedimages\\thumbsup\\thumbsup.29cdb2f5-e7c8-11eb-811d-d0c637404e4d.jpg -> Annotation:E:/Tensorflow object detection/TFODCourse/Tensorflow/workspace/images/collectedimages/thumbsup/thumbsup.29cdb2f5-e7c8-11eb-811d-d0c637404e4d.xml\n",
      "Image:E:\\Tensorflow object detection\\TFODCourse\\Tensorflow\\workspace\\images\\collectedimages\\thumbsup\\thumbsup.93e299fa-e7c8-11eb-98e9-d0c637404e4d.jpg -> Annotation:E:/Tensorflow object detection/TFODCourse/Tensorflow/workspace/images/collectedimages/thumbsup/thumbsup.93e299fa-e7c8-11eb-98e9-d0c637404e4d.xml\n",
      "Image:E:\\Tensorflow object detection\\TFODCourse\\Tensorflow\\workspace\\images\\collectedimages\\thumbsup\\thumbsup.903e3156-e7c8-11eb-a39b-d0c637404e4d.jpg -> Annotation:E:/Tensorflow object detection/TFODCourse/Tensorflow/workspace/images/collectedimages/thumbsup/thumbsup.903e3156-e7c8-11eb-a39b-d0c637404e4d.xml\n",
      "Image:E:\\Tensorflow object detection\\TFODCourse\\Tensorflow\\workspace\\images\\collectedimages\\thumbsup\\thumbsup.917817b7-e7c8-11eb-ae54-d0c637404e4d.jpg -> Annotation:E:/Tensorflow object detection/TFODCourse/Tensorflow/workspace/images/collectedimages/thumbsup/thumbsup.917817b7-e7c8-11eb-ae54-d0c637404e4d.xml\n",
      "Image:E:\\Tensorflow object detection\\TFODCourse\\Tensorflow\\workspace\\images\\collectedimages\\thumbsup\\thumbsup.28974092-e7c8-11eb-b8e2-d0c637404e4d.jpg -> Annotation:E:/Tensorflow object detection/TFODCourse/Tensorflow/workspace/images/collectedimages/thumbsup/thumbsup.28974092-e7c8-11eb-b8e2-d0c637404e4d.xml\n",
      "Image:E:\\Tensorflow object detection\\TFODCourse\\Tensorflow\\workspace\\images\\collectedimages\\thumbsup\\thumbsup.95181251-e7c8-11eb-a4f5-d0c637404e4d.jpg -> Annotation:E:/Tensorflow object detection/TFODCourse/Tensorflow/workspace/images/collectedimages/thumbsup/thumbsup.95181251-e7c8-11eb-a4f5-d0c637404e4d.xml\n",
      "Image:E:\\Tensorflow object detection\\TFODCourse\\Tensorflow\\workspace\\images\\collectedimages\\thumbsup\\thumbsup.92acaa39-e7c8-11eb-8def-d0c637404e4d.jpg -> Annotation:E:/Tensorflow object detection/TFODCourse/Tensorflow/workspace/images/collectedimages/thumbsup/thumbsup.92acaa39-e7c8-11eb-8def-d0c637404e4d.xml\n"
     ]
    }
   ],
   "source": [
    "!cd {LABELIMG_PATH} && python labelImg.py"
   ]
  },
  {
   "cell_type": "markdown",
   "metadata": {},
   "source": [
    "# 6. Move them into a Training and Testing Partition"
   ]
  },
  {
   "cell_type": "markdown",
   "metadata": {},
   "source": [
    "# OPTIONAL - 7. Compress them for Colab Training"
   ]
  },
  {
   "cell_type": "code",
   "execution_count": 11,
   "metadata": {},
   "outputs": [],
   "source": [
    "TRAIN_PATH = os.path.join('Tensorflow', 'workspace', 'images', 'train')\n",
    "TEST_PATH = os.path.join('Tensorflow', 'workspace', 'images', 'test')\n",
    "ARCHIVE_PATH = os.path.join('Tensorflow', 'workspace', 'images', 'archive.tar.gz')"
   ]
  },
  {
   "cell_type": "code",
   "execution_count": 12,
   "metadata": {},
   "outputs": [],
   "source": [
    "!tar -czf {ARCHIVE_PATH} {TRAIN_PATH} {TEST_PATH}"
   ]
  },
  {
   "cell_type": "code",
   "execution_count": null,
   "metadata": {},
   "outputs": [],
   "source": []
  }
 ],
 "metadata": {
  "kernelspec": {
   "display_name": "tfodj",
   "language": "python",
   "name": "tfodj"
  },
  "language_info": {
   "codemirror_mode": {
    "name": "ipython",
    "version": 3
   },
   "file_extension": ".py",
   "mimetype": "text/x-python",
   "name": "python",
   "nbconvert_exporter": "python",
   "pygments_lexer": "ipython3",
   "version": "3.8.10"
  }
 },
 "nbformat": 4,
 "nbformat_minor": 2
}
